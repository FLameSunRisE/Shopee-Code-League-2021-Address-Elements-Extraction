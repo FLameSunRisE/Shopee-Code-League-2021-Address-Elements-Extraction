{
 "cells": [
  {
   "cell_type": "code",
   "execution_count": 1,
   "metadata": {},
   "outputs": [],
   "source": [
    "import pandas as pd"
   ]
  },
  {
   "cell_type": "code",
   "execution_count": 18,
   "metadata": {},
   "outputs": [],
   "source": [
    "from time import sleep\n",
    "from selenium import webdriver\n",
    "from webdriver_manager.firefox import GeckoDriverManager\n",
    "from webdriver_manager.chrome import ChromeDriverManager\n",
    "from webdriver_manager.microsoft import EdgeChromiumDriverManager\n",
    "from selenium.common.exceptions import ElementNotVisibleException\n",
    "from selenium.common.exceptions import NoSuchElementException\n",
    "import pandas as pd\n",
    "import random\n",
    "import math"
   ]
  },
  {
   "cell_type": "code",
   "execution_count": 36,
   "metadata": {},
   "outputs": [],
   "source": [
    "# define scraping function\n",
    "def scrape_indeed(search,loc, limit = 50, canada=False):\n",
    "    \n",
    "    # search_term is the keyword/designation to be searched\n",
    "    search_term = search.replace(' ','+')                  \n",
    "    \n",
    "    if canada:\n",
    "        url = 'https://www.indeed.ca/jobs?q={}&l={}&limit={}&radius=25&start=0'.format(search_term, loc, limit)\n",
    "    else:\n",
    "        url = 'https://www.indeed.com/jobs?q={}&l={}&limit={}&radius=25&start=0'.format(search_term, loc, limit)\n",
    "    \n",
    "    # Start the browser and load the above URL\n",
    "    browser = webdriver.Chrome(executable_path=ChromeDriverManager().install())\n",
    "    browser.get(url)\n",
    "    \n",
    "    # Empty dataframe in which we will store our data scraped from job posts\n",
    "    data = pd.DataFrame(columns = ['job_title','company', 'location', 'job_description'])\n",
    "\n",
    "    x = 0\n",
    "    \n",
    "    # get the number of results. This determines\n",
    "    num_results = browser.find_element_by_id('searchCountPages').text\n",
    "    ind0 = num_results.find('of ') + 3\n",
    "    ind1 = num_results.find(' ', ind0)\n",
    "    num_results = int(num_results[ind0:ind1])\n",
    "    pages = math.ceil(num_results/limit) # the number of pages to visit.\n",
    "    \n",
    "    # Loop through the pages\n",
    "    for j in range(pages):\n",
    "        \n",
    "        # All the job posts have class 'row result clickcard'.\n",
    "        job_elements =  browser.find_elements_by_xpath(\"//div[@class='jobsearch-SerpJobCard unifiedRow row result clickcard']\")\n",
    "\n",
    "        # Loop through the individual job posts\n",
    "        for i in range(len(job_elements)):\n",
    "            \n",
    "            # Click on the job post\n",
    "            job_elements[i].click()\n",
    "            \n",
    "            # Sleep for minimum 3 seconds because we dont want to create unnecessary load on Indeed's servers\n",
    "            sleep(3 + random.randint(0,3))\n",
    "            \n",
    "            # Sometimes Selenium might start scraping before the page finishes loading or \n",
    "            # we might encounter '404 : Job not found error'\n",
    "            # Although these occurences are very rare we don't want our job scrapper to crash.\n",
    "            # Therefore we will retry before moving on.\n",
    "            # If the data was successfully scrapped then it will break out of the for loop\n",
    "            # If we encounter error it will retry again provided the retry count is below 5\n",
    "            \n",
    "            done = False\n",
    "            for k in range(0,5):\n",
    "                try:\n",
    "                    title =  browser.find_element_by_id('vjs-jobtitle').text\n",
    "                    company = browser.find_element_by_id('vjs-cn').text\n",
    "                    company = company.replace('- ', '')\n",
    "                    \n",
    "                    location = browser.find_element_by_id('vjs-loc').text\n",
    "                    description = browser.find_element_by_id('vjs-desc').text\n",
    "                    done = True\n",
    "                    break\n",
    "                except NoSuchElementException:\n",
    "                    print('Unable to fetch data. Retrying.....')\n",
    "\n",
    "            if not done:\n",
    "                continue\n",
    "\n",
    "            # For debugging purposes lets log the job post scrapped\n",
    "            print('Completed Post {} of Page {} - {}'.format(i+1,j+1,title))\n",
    "            \n",
    "            # Insert the data into our dataframe\n",
    "            data = data.append({'job_title':title,\n",
    "                                'company':company,\n",
    "                                'location':location,\n",
    "                                'job_description':description},ignore_index=True)    \n",
    "            \n",
    "\n",
    "        # Change the URL, so as to move on to the next page\n",
    "        url = url.replace('start=' + str(x),'start=' +str(x+limit))\n",
    "        x += limit\n",
    "        \n",
    "        if len(job_elements) < limit:\n",
    "            break\n",
    "        \n",
    "        browser.get(url)\n",
    "        print('Moving on to page ' + str(j+2))\n",
    "        sleep(2)\n",
    "        \n",
    "        # A popover appears when we go to the next page. We will tell the browser to click on close button.\n",
    "        # Although so far for me it has appeared only on 2nd page but I have included the check for every page to be on safer side\n",
    "        try:\n",
    "            browser.find_element_by_id('popover-x').click()\n",
    "        except:\n",
    "            print('No Newsletter Popup Found')\n",
    "    \n",
    "    browser.close()\n",
    "    return data"
   ]
  },
  {
   "cell_type": "code",
   "execution_count": 42,
   "metadata": {},
   "outputs": [
    {
     "name": "stderr",
     "output_type": "stream",
     "text": [
      "[WDM] - Current google-chrome version is 89.0.4389\n",
      "[WDM] - Get LATEST driver version for 89.0.4389\n",
      "[WDM] - Driver [/Users/Daniel/.wdm/drivers/chromedriver/mac64/89.0.4389.23/chromedriver] found in cache\n"
     ]
    },
    {
     "name": "stdout",
     "output_type": "stream",
     "text": [
      " \n",
      "Unable to fetch data. Retrying.....\n",
      "Unable to fetch data. Retrying.....\n",
      "Unable to fetch data. Retrying.....\n",
      "Unable to fetch data. Retrying.....\n",
      "Unable to fetch data. Retrying.....\n",
      "Unable to fetch data. Retrying.....\n",
      "Unable to fetch data. Retrying.....\n",
      "Unable to fetch data. Retrying.....\n",
      "Unable to fetch data. Retrying.....\n",
      "Unable to fetch data. Retrying.....\n",
      "Unable to fetch data. Retrying.....\n",
      "Unable to fetch data. Retrying.....\n",
      "Unable to fetch data. Retrying.....\n",
      "Unable to fetch data. Retrying.....\n",
      "Unable to fetch data. Retrying.....\n"
     ]
    },
    {
     "ename": "KeyboardInterrupt",
     "evalue": "",
     "output_type": "error",
     "traceback": [
      "\u001b[0;31m---------------------------------------------------------------------------\u001b[0m",
      "\u001b[0;31mKeyboardInterrupt\u001b[0m                         Traceback (most recent call last)",
      "\u001b[0;32m<ipython-input-42-4a10d15028f5>\u001b[0m in \u001b[0;36m<module>\u001b[0;34m\u001b[0m\n\u001b[1;32m     14\u001b[0m \u001b[0mq\u001b[0m \u001b[0;34m=\u001b[0m\u001b[0;34m'title%3A%28machine+learning%29'\u001b[0m\u001b[0;34m\u001b[0m\u001b[0;34m\u001b[0m\u001b[0m\n\u001b[1;32m     15\u001b[0m \u001b[0;34m\u001b[0m\u001b[0m\n\u001b[0;32m---> 16\u001b[0;31m \u001b[0mdf0\u001b[0m \u001b[0;34m=\u001b[0m \u001b[0mscrape_indeed\u001b[0m\u001b[0;34m(\u001b[0m\u001b[0mq\u001b[0m\u001b[0;34m,\u001b[0m \u001b[0mloc\u001b[0m\u001b[0;34m,\u001b[0m \u001b[0;36m50\u001b[0m\u001b[0;34m,\u001b[0m \u001b[0;32mFalse\u001b[0m\u001b[0;34m)\u001b[0m \u001b[0;31m# Jan 25\u001b[0m\u001b[0;34m\u001b[0m\u001b[0;34m\u001b[0m\u001b[0m\n\u001b[0m\u001b[1;32m     17\u001b[0m \u001b[0mdf0\u001b[0m\u001b[0;34m.\u001b[0m\u001b[0mto_pickle\u001b[0m\u001b[0;34m(\u001b[0m\u001b[0;34m'data_scientist_boston.pkl'\u001b[0m\u001b[0;34m)\u001b[0m\u001b[0;34m\u001b[0m\u001b[0;34m\u001b[0m\u001b[0m\n\u001b[1;32m     18\u001b[0m \u001b[0;34m\u001b[0m\u001b[0m\n",
      "\u001b[0;32m<ipython-input-36-297c8006ced5>\u001b[0m in \u001b[0;36mscrape_indeed\u001b[0;34m(search, loc, limit, canada)\u001b[0m\n\u001b[1;32m     39\u001b[0m \u001b[0;34m\u001b[0m\u001b[0m\n\u001b[1;32m     40\u001b[0m             \u001b[0;31m# Sleep for minimum 3 seconds because we dont want to create unnecessary load on Indeed's servers\u001b[0m\u001b[0;34m\u001b[0m\u001b[0;34m\u001b[0m\u001b[0;34m\u001b[0m\u001b[0m\n\u001b[0;32m---> 41\u001b[0;31m             \u001b[0msleep\u001b[0m\u001b[0;34m(\u001b[0m\u001b[0;36m3\u001b[0m \u001b[0;34m+\u001b[0m \u001b[0mrandom\u001b[0m\u001b[0;34m.\u001b[0m\u001b[0mrandint\u001b[0m\u001b[0;34m(\u001b[0m\u001b[0;36m0\u001b[0m\u001b[0;34m,\u001b[0m\u001b[0;36m3\u001b[0m\u001b[0;34m)\u001b[0m\u001b[0;34m)\u001b[0m\u001b[0;34m\u001b[0m\u001b[0;34m\u001b[0m\u001b[0m\n\u001b[0m\u001b[1;32m     42\u001b[0m \u001b[0;34m\u001b[0m\u001b[0m\n\u001b[1;32m     43\u001b[0m             \u001b[0;31m# Sometimes Selenium might start scraping before the page finishes loading or\u001b[0m\u001b[0;34m\u001b[0m\u001b[0;34m\u001b[0m\u001b[0;34m\u001b[0m\u001b[0m\n",
      "\u001b[0;31mKeyboardInterrupt\u001b[0m: "
     ]
    }
   ],
   "source": [
    "'''\n",
    "cities = ['boston%2CMA', 'chicago%2CIL', 'la%2CCA', 'montreal%2CQC', 'ny%2CNY', 'sf@2CCA', 'vancouver2CBC']\n",
    "\n",
    "for city in cities:\n",
    "    loc = city+'%2C+ON'\n",
    "    q = 'title%3A%28machine+learning%29'\n",
    "    f_name = 'data_scientist_' + city+ '.pkl'\n",
    "    df0 = scrape_indeed(q, loc, 50, True) # Jan 25\n",
    "    df0.to_pickle(f_name)\n",
    "'''\n",
    "'''\n",
    "# download data, use Toronto as an example\n",
    "loc = 'boston%2CMA'\n",
    "q ='title%3A%28machine+learning%29'\n",
    "\n",
    "df0 = scrape_indeed(q, loc, 50, False) # Jan 25\n",
    "df0.to_pickle('data_scientist_boston.pkl')\n",
    "'''\n",
    "\n",
    "\n",
    "# download data, use Toronto as an example\n",
    "loc = 'Toronto%2C+ON'\n",
    "q = 'title%3A%28machine+learning%29'\n",
    "\n",
    "df0 = scrape_indeed(q, loc, 50, True) # Jan 25\n",
    "df0.to_pickle('data_scientist_toronto.pkl')\n",
    "\n"
   ]
  },
  {
   "cell_type": "code",
   "execution_count": 35,
   "metadata": {},
   "outputs": [
    {
     "name": "stderr",
     "output_type": "stream",
     "text": [
      "[WDM] - Driver [/Users/Daniel/.wdm/drivers/edgedriver/mac64/89.0.774.54/msedgedriver] found in cache\n"
     ]
    },
    {
     "ename": "WebDriverException",
     "evalue": "Message: 'msedgedriver' executable may have wrong permissions. Please download from http://go.microsoft.com/fwlink/?LinkId=619687\n",
     "output_type": "error",
     "traceback": [
      "\u001b[0;31m---------------------------------------------------------------------------\u001b[0m",
      "\u001b[0;31mPermissionError\u001b[0m                           Traceback (most recent call last)",
      "\u001b[0;32m~/opt/miniconda3/envs/API/lib/python3.7/site-packages/selenium/webdriver/common/service.py\u001b[0m in \u001b[0;36mstart\u001b[0;34m(self)\u001b[0m\n\u001b[1;32m     75\u001b[0m                                             \u001b[0mstderr\u001b[0m\u001b[0;34m=\u001b[0m\u001b[0mself\u001b[0m\u001b[0;34m.\u001b[0m\u001b[0mlog_file\u001b[0m\u001b[0;34m,\u001b[0m\u001b[0;34m\u001b[0m\u001b[0;34m\u001b[0m\u001b[0m\n\u001b[0;32m---> 76\u001b[0;31m                                             stdin=PIPE)\n\u001b[0m\u001b[1;32m     77\u001b[0m         \u001b[0;32mexcept\u001b[0m \u001b[0mTypeError\u001b[0m\u001b[0;34m:\u001b[0m\u001b[0;34m\u001b[0m\u001b[0;34m\u001b[0m\u001b[0m\n",
      "\u001b[0;32m~/opt/miniconda3/envs/API/lib/python3.7/subprocess.py\u001b[0m in \u001b[0;36m__init__\u001b[0;34m(self, args, bufsize, executable, stdin, stdout, stderr, preexec_fn, close_fds, shell, cwd, env, universal_newlines, startupinfo, creationflags, restore_signals, start_new_session, pass_fds, encoding, errors, text)\u001b[0m\n\u001b[1;32m    799\u001b[0m                                 \u001b[0merrread\u001b[0m\u001b[0;34m,\u001b[0m \u001b[0merrwrite\u001b[0m\u001b[0;34m,\u001b[0m\u001b[0;34m\u001b[0m\u001b[0;34m\u001b[0m\u001b[0m\n\u001b[0;32m--> 800\u001b[0;31m                                 restore_signals, start_new_session)\n\u001b[0m\u001b[1;32m    801\u001b[0m         \u001b[0;32mexcept\u001b[0m\u001b[0;34m:\u001b[0m\u001b[0;34m\u001b[0m\u001b[0;34m\u001b[0m\u001b[0m\n",
      "\u001b[0;32m~/opt/miniconda3/envs/API/lib/python3.7/subprocess.py\u001b[0m in \u001b[0;36m_execute_child\u001b[0;34m(self, args, executable, preexec_fn, close_fds, pass_fds, cwd, env, startupinfo, creationflags, shell, p2cread, p2cwrite, c2pread, c2pwrite, errread, errwrite, restore_signals, start_new_session)\u001b[0m\n\u001b[1;32m   1550\u001b[0m                             \u001b[0merr_msg\u001b[0m \u001b[0;34m+=\u001b[0m \u001b[0;34m': '\u001b[0m \u001b[0;34m+\u001b[0m \u001b[0mrepr\u001b[0m\u001b[0;34m(\u001b[0m\u001b[0merr_filename\u001b[0m\u001b[0;34m)\u001b[0m\u001b[0;34m\u001b[0m\u001b[0;34m\u001b[0m\u001b[0m\n\u001b[0;32m-> 1551\u001b[0;31m                     \u001b[0;32mraise\u001b[0m \u001b[0mchild_exception_type\u001b[0m\u001b[0;34m(\u001b[0m\u001b[0merrno_num\u001b[0m\u001b[0;34m,\u001b[0m \u001b[0merr_msg\u001b[0m\u001b[0;34m,\u001b[0m \u001b[0merr_filename\u001b[0m\u001b[0;34m)\u001b[0m\u001b[0;34m\u001b[0m\u001b[0;34m\u001b[0m\u001b[0m\n\u001b[0m\u001b[1;32m   1552\u001b[0m                 \u001b[0;32mraise\u001b[0m \u001b[0mchild_exception_type\u001b[0m\u001b[0;34m(\u001b[0m\u001b[0merr_msg\u001b[0m\u001b[0;34m)\u001b[0m\u001b[0;34m\u001b[0m\u001b[0;34m\u001b[0m\u001b[0m\n",
      "\u001b[0;31mPermissionError\u001b[0m: [Errno 13] Permission denied: '/Users/Daniel/.wdm/drivers/edgedriver/mac64/89.0.774.54/msedgedriver'",
      "\nDuring handling of the above exception, another exception occurred:\n",
      "\u001b[0;31mWebDriverException\u001b[0m                        Traceback (most recent call last)",
      "\u001b[0;32m<ipython-input-35-531b0b21c7f5>\u001b[0m in \u001b[0;36m<module>\u001b[0;34m\u001b[0m\n\u001b[0;32m----> 1\u001b[0;31m \u001b[0ms\u001b[0m \u001b[0;34m=\u001b[0m \u001b[0mwebdriver\u001b[0m\u001b[0;34m.\u001b[0m\u001b[0mEdge\u001b[0m\u001b[0;34m(\u001b[0m\u001b[0mexecutable_path\u001b[0m\u001b[0;34m=\u001b[0m\u001b[0mEdgeChromiumDriverManager\u001b[0m\u001b[0;34m(\u001b[0m\u001b[0;34m)\u001b[0m\u001b[0;34m.\u001b[0m\u001b[0minstall\u001b[0m\u001b[0;34m(\u001b[0m\u001b[0;34m)\u001b[0m\u001b[0;34m)\u001b[0m\u001b[0;34m\u001b[0m\u001b[0;34m\u001b[0m\u001b[0m\n\u001b[0m\u001b[1;32m      2\u001b[0m \u001b[0murl\u001b[0m \u001b[0;34m=\u001b[0m \u001b[0;34m'www.google.com.tw'\u001b[0m\u001b[0;34m\u001b[0m\u001b[0;34m\u001b[0m\u001b[0m\n\u001b[1;32m      3\u001b[0m \u001b[0;34m\u001b[0m\u001b[0m\n\u001b[1;32m      4\u001b[0m \u001b[0ms\u001b[0m\u001b[0;34m.\u001b[0m\u001b[0mget\u001b[0m\u001b[0;34m(\u001b[0m\u001b[0murl\u001b[0m\u001b[0;34m)\u001b[0m\u001b[0;34m\u001b[0m\u001b[0;34m\u001b[0m\u001b[0m\n",
      "\u001b[0;32m~/opt/miniconda3/envs/API/lib/python3.7/site-packages/selenium/webdriver/edge/webdriver.py\u001b[0m in \u001b[0;36m__init__\u001b[0;34m(self, executable_path, capabilities, port, verbose, service_log_path, log_path, keep_alive)\u001b[0m\n\u001b[1;32m     54\u001b[0m \u001b[0;34m\u001b[0m\u001b[0m\n\u001b[1;32m     55\u001b[0m         \u001b[0mself\u001b[0m\u001b[0;34m.\u001b[0m\u001b[0medge_service\u001b[0m \u001b[0;34m=\u001b[0m \u001b[0mService\u001b[0m\u001b[0;34m(\u001b[0m\u001b[0mexecutable_path\u001b[0m\u001b[0;34m,\u001b[0m \u001b[0mport\u001b[0m\u001b[0;34m=\u001b[0m\u001b[0mself\u001b[0m\u001b[0;34m.\u001b[0m\u001b[0mport\u001b[0m\u001b[0;34m,\u001b[0m \u001b[0mverbose\u001b[0m\u001b[0;34m=\u001b[0m\u001b[0mverbose\u001b[0m\u001b[0;34m,\u001b[0m \u001b[0mlog_path\u001b[0m\u001b[0;34m=\u001b[0m\u001b[0mservice_log_path\u001b[0m\u001b[0;34m)\u001b[0m\u001b[0;34m\u001b[0m\u001b[0;34m\u001b[0m\u001b[0m\n\u001b[0;32m---> 56\u001b[0;31m         \u001b[0mself\u001b[0m\u001b[0;34m.\u001b[0m\u001b[0medge_service\u001b[0m\u001b[0;34m.\u001b[0m\u001b[0mstart\u001b[0m\u001b[0;34m(\u001b[0m\u001b[0;34m)\u001b[0m\u001b[0;34m\u001b[0m\u001b[0;34m\u001b[0m\u001b[0m\n\u001b[0m\u001b[1;32m     57\u001b[0m \u001b[0;34m\u001b[0m\u001b[0m\n\u001b[1;32m     58\u001b[0m         \u001b[0;32mif\u001b[0m \u001b[0mcapabilities\u001b[0m \u001b[0;32mis\u001b[0m \u001b[0;32mNone\u001b[0m\u001b[0;34m:\u001b[0m\u001b[0;34m\u001b[0m\u001b[0;34m\u001b[0m\u001b[0m\n",
      "\u001b[0;32m~/opt/miniconda3/envs/API/lib/python3.7/site-packages/selenium/webdriver/common/service.py\u001b[0m in \u001b[0;36mstart\u001b[0;34m(self)\u001b[0m\n\u001b[1;32m     86\u001b[0m                 raise WebDriverException(\n\u001b[1;32m     87\u001b[0m                     \"'%s' executable may have wrong permissions. %s\" % (\n\u001b[0;32m---> 88\u001b[0;31m                         os.path.basename(self.path), self.start_error_message)\n\u001b[0m\u001b[1;32m     89\u001b[0m                 )\n\u001b[1;32m     90\u001b[0m             \u001b[0;32melse\u001b[0m\u001b[0;34m:\u001b[0m\u001b[0;34m\u001b[0m\u001b[0;34m\u001b[0m\u001b[0m\n",
      "\u001b[0;31mWebDriverException\u001b[0m: Message: 'msedgedriver' executable may have wrong permissions. Please download from http://go.microsoft.com/fwlink/?LinkId=619687\n"
     ]
    }
   ],
   "source": []
  }
 ],
 "metadata": {
  "kernelspec": {
   "display_name": "Python 3.7 (api)",
   "language": "python",
   "name": "tensorflow"
  },
  "language_info": {
   "codemirror_mode": {
    "name": "ipython",
    "version": 3
   },
   "file_extension": ".py",
   "mimetype": "text/x-python",
   "name": "python",
   "nbconvert_exporter": "python",
   "pygments_lexer": "ipython3",
   "version": "3.7.9"
  }
 },
 "nbformat": 4,
 "nbformat_minor": 4
}
